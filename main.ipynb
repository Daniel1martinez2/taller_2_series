{
 "cells": [
  {
   "cell_type": "markdown",
   "metadata": {},
   "source": [
    "# Taller Series\n",
    "Integrantes:\n",
    "- Miguel Perez\n",
    "- Sebastián Márquez\n",
    "- Daniel Martínez Villegas\n",
    "- Mariana Lizcano"
   ]
  },
  {
   "cell_type": "code",
   "execution_count": 1,
   "metadata": {},
   "outputs": [],
   "source": [
    "import numpy as np\n",
    "import matplotlib.pyplot as plt"
   ]
  },
  {
   "cell_type": "markdown",
   "metadata": {},
   "source": [
    "## 1\n",
    "$\\sum_{k = 1}^{\\infty} \\frac{2k +1}{k}$\n",
    "\n",
    "$k_i = [\\frac{3}{1},\\frac{5}{2},\\frac{7}{3},\\frac{9}{4}...]$"
   ]
  },
  {
   "cell_type": "code",
   "execution_count": 1,
   "metadata": {},
   "outputs": [
    {
     "data": {
      "image/png": "[encoded data removed]",
      "text/plain": [
       "<Figure size 640x480 with 1 Axes>"
      ]
     },
     "metadata": {},
     "output_type": "display_data"
    }
   ],
   "source": [
    "import numpy as np\n",
    "import matplotlib.pyplot as plt\n",
    "import math\n",
    "\n",
    "\n",
    "def suc(n):\n",
    "    suc = (2*n+1/n)**n\n",
    "    return suc\n",
    "\n",
    "\n",
    "x = np.arange(1, 5)\n",
    "y = [suc(x) for x in x]\n",
    "plt.plot(x, y, \".\")\n",
    "plt.grid(True)\n",
    "plt.show()"
   ]
  },
  {
   "cell_type": "markdown",
   "metadata": {},
   "source": [
    "## 4\n",
    "\n",
    "$\\sum_{k=1}^{\\infty} = \\frac{-1^{k+1}}{k3^k}$\n",
    "\n",
    "* **k=1**\n",
    "$\\frac{-1^{2}}{3} = \\frac{1}{3} $\n",
    "\n",
    "* **k=2**\n",
    "$\\frac{-1^{3}}{18} = \\frac{-1}{18} $\n",
    "\n",
    "* **k=3**\n",
    "$\\frac{-1^{4}}{81} = \\frac{1}{81} $\n",
    "\n",
    "* **k=4**\n",
    "$\\frac{-1^{5}}{324} = \\frac{-1}{324} $\n",
    "\n",
    "\n",
    "**Los 4 primeros valores de la sumatoria son:**\n",
    "\n",
    "$[\\frac{1}{3} , \\frac{-1}{18} , \\frac{1}{81} , \\frac{-1}{324} + ...]$\n",
    "\n",
    "\n",
    "\n"
   ]
  },
  {
   "cell_type": "markdown",
   "metadata": {},
   "source": [
    "## 5"
   ]
  },
  {
   "cell_type": "code",
   "execution_count": 2,
   "metadata": {},
   "outputs": [
    {
     "name": "stdout",
     "output_type": "stream",
     "text": [
      "1.0\n",
      "2.0\n",
      "1.5\n",
      "0.6666666666666666\n",
      "0.20833333333333334\n"
     ]
    }
   ],
   "source": [
    "##Punto 5\n",
    "terminos = [0,1,2,3,4]\n",
    "def sumatoria(terminos):\n",
    "    suma = 0\n",
    "    for n in terminos:\n",
    "        suma = (n+1)/math.factorial(n)\n",
    "        print(suma)\n",
    "\n",
    "sumatoria(terminos)"
   ]
  },
  {
   "cell_type": "markdown",
   "metadata": {},
   "source": [
    "## 11.\n",
    "$\n",
    "\\sum_{k=1}^{\\infty} \\frac{1}{k(k+1)}\n",
    "$\n",
    "\n",
    "Descomposición en fracciones parciales\n",
    "\n",
    "$\n",
    "\\frac{1}{k(k+1)} = \\frac{1}{k} - \\frac{1}{k+1}\n",
    "$\n",
    "\n",
    "Serie reescrita\n",
    "\n",
    "$\n",
    "\\sum_{k=1}^{\\infty} \\frac{1}{k(k+1)} = \\sum_{k=1}^{\\infty} \\left( \\frac{1}{k} - \\frac{1}{k+1} \\right)\n",
    "$\n",
    "\n",
    "\n",
    "$\n",
    "S_n = 1 - \\frac{1}{n+1}\n",
    "$\n",
    "\n",
    "Limite de la serie\n",
    "\n",
    "$\n",
    "\\lim_{n \\to \\infty} S_n = \\lim_{n \\to \\infty} \\left( 1 - \\frac{1}{n+1} \\right)\n",
    "$\n",
    "\n",
    "A medida que n crecem $\\frac{1}{n+1}$ se acerca a 0\n",
    "\n",
    "$\n",
    "\\lim_{n \\to \\infty} \\frac{1}{n+1} = 0\n",
    "$\n",
    "\n",
    "La suma de la serie es:\n",
    "\n",
    "$\n",
    "1 - 0 = 1\n",
    "$\n",
    "\n",
    "### Suma de la serie\n",
    "\n",
    "$\n",
    "\\sum_{k=1}^{\\infty} \\frac{1}{k(k+1)} = 1\n",
    "$\n"
   ]
  },
  {
   "cell_type": "markdown",
   "metadata": {},
   "source": [
    "## 15\n",
    "$\\sum_{k = 1}^{\\infty} 3(\\frac{1}{5})^{k-1}$\n",
    "\n",
    "razón = $\\frac{1}{5}$  La serie es convergente ya que la razón es < 1. Y su límite es $\\frac{15}{4}$\n",
    "\n",
    "Suma = $\\frac{3}{1 - (\\frac{1}{5})} = \\frac{15}{4}$"
   ]
  },
  {
   "cell_type": "markdown",
   "metadata": {},
   "source": [
    "## 17\n",
    "\n",
    "$\\sum_{k=1}^{\\infty} = \\frac{(-1)^{k-1}}{2^{k-1}}$\n",
    "\n",
    "**Se puede determinar que :**\n",
    "\n",
    "**La razon es :** $\\frac {1}{2}$\n",
    "\n",
    "**Entonces como $|r|> 1$ es convergente podemos asumir que $\\frac {1}{2}$ es menor que 1 la serie es convergente.**\n",
    "\n",
    "**Encontrando la suma de la serie :**\n",
    "\n",
    "$a=1$\n",
    "\n",
    "$r=\\frac {1}{2}$\n",
    "\n",
    "\n",
    "$S = \\frac{1}{1 - \\left(-\\frac{1}{2}\\right)} = \\frac{1}{1 + \\frac{1}{2}} = \\frac{1}{\\frac{3}{2}} = \\frac{2}{3}$\n",
    "\n"
   ]
  },
  {
   "cell_type": "markdown",
   "metadata": {},
   "source": [
    "## 19\n",
    "\n",
    "$\\sum_{r=1} ^{∞} 5^{r}4^{-r}$\n",
    "\n",
    "Esta serie es divergente debido a que la razón es igual a $\\frac{5}{4}$ lo que nos da 1,25 y según las generalidades de una serie geométrica si $-1 >= r >= 1$ diverge.  \n",
    "${5^{n}} \\frac{1}{4^{n-1}} = \\frac{5 * 5^{n-1}}{4^{n-1}}$  \n",
    "\n",
    "$\\sum_{r=1} ^{∞} 5 * (\\frac{5}{4})^{n-1}$  \n",
    "\n",
    "$a = 5$\n",
    "$r = \\frac{5}{4}$"
   ]
  },
  {
   "cell_type": "markdown",
   "metadata": {},
   "source": [
    "## 22.\n",
    "Serie a resolver: \n",
    "   S = $ \\sum_{n=1}^{\\infty} \\frac{(1.1)^n}{1000} $\n",
    "\n",
    "Paso 1: Reescribir el término general.\n",
    "   Término general de la serie: $ a_n = \\frac{(1.1)^n}{1000} $\n",
    "\n",
    "Paso 2: Identificar el primer término ($a_1$) y la razón común ($r$).\n",
    "\n",
    "   $ a_1 = \\frac{(1.1)^1}{1000} = \\frac{1.1}{1000} $\n",
    "   $ r = 1.1 $\n",
    "\n",
    "   Primer término de la serie: $ a_1 = \\frac{1.1}{1000} $\n",
    "   Razón común: $ r = 1.1 $\n",
    "\n",
    "Respuesta: Cómo $ |r| > 1$, la serie diverge\n"
   ]
  },
  {
   "cell_type": "markdown",
   "metadata": {},
   "source": [
    "## 23\n",
    "$\\sum_{k = 0}^{\\infty} \\frac{1}{(\\sqrt{3}-\\sqrt{2})^{k}}$\n",
    "\n",
    "razón = $\\frac{1}{0.318}$  La serie es divergente ya que la razón es > 1."
   ]
  },
  {
   "cell_type": "markdown",
   "metadata": {},
   "source": [
    "## 25\n",
    "Multiplicamos por 10 ambos lados para mover el punto decimal:\n",
    "\n",
    "$10x = 2.222...$\n",
    "\n",
    "\n",
    "Restamos las dos ecuaciones:\n",
    "\n",
    "$10x - x = 2.222\\ldots - 0.222\\ldots$\n",
    "\n",
    "\n",
    "Obtenemos:\n",
    "\n",
    "$9x = 2$\n",
    "\n",
    "resolvemos para $( x )$:\n",
    "\n",
    "$x = \\frac{2}{9}$\n",
    "\n",
    "\n",
    "Por lo tanto, $ 0.222= \\frac{2}{9}.$"
   ]
  },
  {
   "cell_type": "markdown",
   "metadata": {},
   "source": [
    "## 28\n",
    "$x = 0.393939 ...$  \n",
    "$0.39 * 100 = 100x$  \n",
    "$39.39... - 0.39... = 100x - x$  \n",
    "$\\frac{39}{99} = \\frac{99}{99}x$  \n",
    "$\\frac{13}{33} = x$  \n",
    "\n",
    "La fracción de dos números enteros para que de $x = 0.3939...$ es $x= \\frac{13}{33} $"
   ]
  },
  {
   "cell_type": "markdown",
   "metadata": {},
   "source": [
    "## 31.\n",
    "Serie a resolver: \n",
    "   S = $ \\sum_{k=1}^{\\infty} \\left[ \\left( \\frac{1}{3} \\right)^{k-1} + \\left( \\frac{1}{4} \\right)^{k-1} \\right] $\n",
    "\n",
    "Paso 1: Separar en dos series geométricas.\n",
    "\n",
    "   Primera serie: $ \\sum_{k=1}^{\\infty} \\left( \\frac{1}{3} \\right)^{k-1} $\n",
    "   Segunda serie: $ \\sum_{k=1}^{\\infty} \\left( \\frac{1}{4} \\right)^{k-1} $\n",
    "\n",
    "Paso 2: Resolver la primera serie geométrica.\n",
    "\n",
    "   Serie geométrica de la forma: $ a_0 \\cdot r^n $\n",
    "   Fórmula de la suma de una serie geométrica infinita: $ S = \\frac{a_0}{1 - r} $\n",
    "\n",
    "   Para la primera serie:\n",
    "     - Primer término: $ a_0 = \\left( \\frac{1}{3} \\right)^0 = 1 $\n",
    "     - Razón común: $ r = \\frac{1}{3} $\n",
    "\n",
    "   Suma de la primera serie:\n",
    "     $ S_1 = \\frac{1}{1 - \\frac{1}{3}} = \\frac{1}{\\frac{2}{3}} = \\frac{3}{2} $\n",
    "\n",
    "Paso 3: Resolver la segunda serie geométrica.\n",
    "\n",
    "   Para la segunda serie:\n",
    "     - Primer término: $ a_0 = \\left( \\frac{1}{4} \\right)^0 = 1 $\n",
    "     - Razón común: $ r = \\frac{1}{4} $\n",
    "\n",
    "   Suma de la segunda serie:\n",
    "     $ S_2 = \\frac{1}{1 - \\frac{1}{4}} = \\frac{1}{\\frac{3}{4}} = \\frac{4}{3} $\n",
    "\n",
    "Paso 4: Sumar los resultados de ambas series.\n",
    "\n",
    "   $ S = S_1 + S_2 = \\frac{3}{2} + \\frac{4}{3} $\n",
    "\n",
    "   Encontrar denominador común:\n",
    "     $ S = \\frac{9}{6} + \\frac{8}{6} = \\frac{17}{6} $\n",
    "\n",
    "Resultado final:\n",
    "   $ S = \\frac{17}{6} $\n"
   ]
  },
  {
   "cell_type": "markdown",
   "metadata": {},
   "source": [
    "## 33\n",
    "$\\sum_{k = 1}^{\\infty} 10$\n",
    "Es divergente porque la suma infinita de una constante crece sin límite."
   ]
  },
  {
   "cell_type": "markdown",
   "metadata": {},
   "source": [
    "## 37\n",
    "$\\sum_{k=1}^{\\infty} = {-1^{k}}$\n",
    "\n",
    "Consideremos la serie:\n",
    "\n",
    "$\\sum_{k=1}^{\\infty} (-1)^k$\n",
    "\n",
    "Los primeros términos de la serie son:\n",
    "\n",
    "$1, -1, 1, -1, 1, -1, ...$\n",
    "\n",
    "Si calculamos las sumas parciales, obtenemos:\n",
    "\n",
    "$S_2 = 1 - 1 = 0$\n",
    "\n",
    "$S_3 = 1 - 1 + 1 = 1$\n",
    "\n",
    "$S_4 = 1 - 1 + 1 - 1 = 0$\n",
    "\n",
    "$S_5 = 1 - 1 + 1 - 1 + 1 = 1$\n",
    "\n",
    "Las sumas parciales no convergen a un valor fijo y oscilan entre \\( 0 \\) y \\( 1 \\). Por lo tanto, la serie no tiene un límite y es $divergente$.\n"
   ]
  },
  {
   "cell_type": "markdown",
   "metadata": {},
   "source": [
    "## 40\n",
    "\n",
    "$∑∞k=116k $\n",
    "\n",
    "Esta serie tiene la estructura de una serie armónica la cual es:  $∑∞n=11n$  y es divergente debido a que siempre escala y se multiplica por un valor constante el cual es el 6, lo que causa que la gráfica siempre tienda a"
   ]
  },
  {
   "cell_type": "code",
   "execution_count": 3,
   "metadata": {},
   "outputs": [
    {
     "data": {
      "image/png": "[encoded data removed]",
      "text/plain": [
       "<Figure size 1000x600 with 1 Axes>"
      ]
     },
     "metadata": {},
     "output_type": "display_data"
    }
   ],
   "source": [
    "valores_n = np.arange(0, 201)\n",
    "\n",
    "\n",
    "def serie_armonica(valores_n):\n",
    "    valores = list()\n",
    "    for n in valores_n:\n",
    "        x = 1/6 * n\n",
    "        valores.append(x)\n",
    "        # print(x)\n",
    "\n",
    "    valores = np.array(valores)\n",
    "    return valores\n",
    "\n",
    "\n",
    "valores = serie_armonica(valores_n)\n",
    "\n",
    "plt.figure(figsize=(10, 6))\n",
    "plt.plot(valores_n, valores, label=r'$Valores$', color='purple')\n",
    "plt.xlabel('n')\n",
    "plt.title('Serie armónica')\n",
    "plt.legend()\n",
    "plt.grid(True)\n",
    "plt.show()"
   ]
  },
  {
   "cell_type": "markdown",
   "metadata": {},
   "source": [
    "## 47\n",
    "Problema:\n",
    "   La pelota se deja caer desde una altura de 15 pies y rebota alcanzando $ \\frac{2}{3} $ de la altura anterior.\n",
    "   Encontrar la distancia total recorrida en los rebotes.\n",
    "\n",
    "Paso 1: Expresión de la serie geométrica.\n",
    "\n",
    "   La altura después del primer rebote sigue una serie geométrica con:\n",
    "   $ a_n = 15 \\times \\left( \\frac{2}{3} \\right)^{n-1} $\n",
    "\n",
    "   Donde:\n",
    "   - $ a_0 = 15 $ (altura inicial).\n",
    "   - $ r = \\frac{2}{3} $ (razón común).\n",
    "\n",
    "Paso 2: Usar la fórmula de la suma infinita de una serie geométrica.\n",
    "\n",
    "   Fórmula de la suma de una serie geométrica infinita:\n",
    "   $ S = \\frac{a_0}{1 - r} $\n",
    "\n",
    "   Para la serie:\n",
    "   - Primer término: $ a_0 = 15 $\n",
    "   - Razón común: $ r = \\frac{2}{3} $\n",
    "\n",
    "   Sustituimos en la fórmula:\n",
    "   $ S = \\frac{15}{1 - \\frac{2}{3}} = \\frac{15}{\\frac{1}{3}} = 45 $\n",
    "\n",
    "Paso 3: Interpretación del resultado.\n",
    "\n",
    "   Esta suma representa la **distancia total recorrida en los rebotes hacia arriba**.\n",
    "   Resultado:\n",
    "   $ S = 45 \\text{ pies} $\n"
   ]
  },
  {
   "cell_type": "markdown",
   "metadata": {},
   "source": [
    "## 51\n",
    "$\\sum_{k = 0}^{\\infty} 15(0.2)^{k}$\n",
    "\n",
    "$r = 0.2$\n",
    "$a = 15$\n",
    "\n",
    "Suma = $\\frac{15}{1 - 0.2} = 18.75mg$"
   ]
  },
  {
   "cell_type": "markdown",
   "metadata": {},
   "source": [
    "## 66\n",
    "\n",
    "\n",
    "El tiempo que tarda Aquiles en alcanzar el punto donde estaba la tortuga inicialmente es:\n",
    "\n",
    "$t_1 = \\frac{d_0}{v_A}$\n",
    "\n",
    "En este tiempo, la tortuga ha avanzado una distancia:\n",
    "\n",
    "$d_1 = v_T \\cdot t_1$\n",
    "\n",
    "El tiempo para alcanzar el nuevo punto es:\n",
    "\n",
    "$t_2 = \\frac{d_1}{v_A}$\n",
    "\n",
    "El proceso continúa indefinidamente. La suma total de los tiempos es:\n",
    "\n",
    "$T = t_1 + t_2 + t_3 + \\dots$\n",
    "\n",
    "Esta es una serie geométrica con el primer término:\n",
    "\n",
    "$t_1 = \\frac{d_0}{v_A}$\n",
    "\n",
    "Y razón:\n",
    "\n",
    "$r = \\frac{v_T}{v_A}$\n",
    "\n",
    "La suma de esta serie es:\n",
    "\n",
    "$T = \\frac{\\frac{d_0}{v_A}}{1 - \\frac{v_T}{v_A}}$\n",
    "\n",
    "Sustituyendo los valores:\n",
    "\n",
    "$T = \\frac{\\frac{10}{10}}{1 - \\frac{1}{10}} = \\frac{1}{\\frac{9}{10}} = \\frac{10}{9} , {segundos}$\n",
    "\n",
    "Por lo tanto, Aquiles alcanzará a la tortuga en:\n",
    "\n",
    "$\\frac{10}{9} ,{segundos}$\n"
   ]
  }
 ],
 "metadata": {
  "kernelspec": {
   "display_name": "personal",
   "language": "python",
   "name": "python3"
  },
  "language_info": {
   "codemirror_mode": {
    "name": "ipython",
    "version": 3
   },
   "file_extension": ".py",
   "mimetype": "text/x-python",
   "name": "python",
   "nbconvert_exporter": "python",
   "pygments_lexer": "ipython3",
   "version": "3.8.15"
  }
 },
 "nbformat": 4,
 "nbformat_minor": 2
}
